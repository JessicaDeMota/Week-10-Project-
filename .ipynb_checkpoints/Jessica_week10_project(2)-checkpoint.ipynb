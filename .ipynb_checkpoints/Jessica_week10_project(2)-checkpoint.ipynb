{
 "cells": [
  {
   "cell_type": "markdown",
   "metadata": {},
   "source": [
    "<div style=\"background: #000;\n",
    "            color: #FFF;\n",
    "            margin: 0px;\n",
    "                padding: 10px 0px 20px 0px;\n",
    "            text-align: center; \n",
    "                \">\n",
    "    <h1>Week 10 Project</h1>\n",
    "</div>"
   ]
  },
  {
   "cell_type": "markdown",
   "metadata": {},
   "source": [
    "For your final project, you will:\n",
    "* Scrape data of significance (will need approval) and clean it up.\n",
    "* Automate the process of storing it in your database. \n",
    "* Create a flask application that will make our database accessible from the web. Your flask views can return html or json depending on your preference.\n",
    "\n",
    "### First deliverable for your final project:\n",
    "Due next week (data tbd)\n",
    "* The script that scrapes your data and stores it in your database.\n",
    "* The git repo to store your work with the script included.\n"
   ]
  },
  {
   "cell_type": "code",
   "execution_count": 6,
   "metadata": {},
   "outputs": [
    {
     "name": "stdout",
     "output_type": "stream",
     "text": [
      "[['Rank', 'Country', 'Total publicand primaryprivate health insurance', 'Government /social health insurance', 'Primaryprivate health insurance'], ['1', 'Australia', '100.0', '100.0', '0.0'], ['1', 'Canada', '100.0', '100.0', '0.0'], ['1', 'Czech Republic', '100.0', '100.0', '0.0'], ['1', 'Denmark', '100.0', '100.0', '0.0'], ['1', 'Finland', '100.0', '100.0', '0.0'], ['1', 'Greece', '100.0', '100.0', '0.0'], ['1', 'Hungary', '100.0', '100.0', '0.0'], ['1', 'Iceland', '100.0', '99.5', '0.5'], ['1', 'Ireland', '100.0', '100.0', '0.0'], ['1', 'Israel', '100.0', '100.0', '0.0'], ['1', 'Italy', '100.0', '100.0', '0.0'], ['1', 'Japan', '100.0', '100.0', '0.0'], ['1', 'Korea, South', '100.0', '100.0', '0.0'], ['1', 'New Zealand', '100.0', '100.0', '0.0'], ['1', 'Norway', '100.0', '100.0', '0.0'], ['1', 'Portugal', '100.0', '100.0', '0.0'], ['1', 'Slovenia', '100.0', '100.0', '0.0'], ['1', 'South Africa[2]', '100.0', '84.0', '16.0'], ['1', 'Sweden', '100.0', '100.0', '0.0'], ['1', 'Switzerland', '100.0', '100.0', '0.0'], ['1', 'United Kingdom', '100.0', '100.0', '0.0'], ['22', 'Austria', '99.9', '99.9', '0.0'], ['22', 'France', '99.9', '99.9', '0.0'], ['22', 'Germany', '99.9', '89.3', '10.7'], ['22', 'Netherlands', '99.9', '99.9', '0.0'], ['22', 'Spain', '99.9', '99.9', '0.0'], ['27', 'Turkey', '99.5', '99.5', '0.0'], ['28', 'Belgium', '99.0', '99.0', '0.0'], ['29', 'Luxembourg', '97.2', '97.2', '0.0'], ['30', 'Slovakia', '94.5', '94.5', '0.0'], ['31', 'Chile', '94.3', '74.4', '19.0'], ['32', 'Estonia', '94.1', '94.1', '0.0'], ['33', 'Poland', '91.5', '91.5', '0.0'], ['26', 'United States', '91.2', '73', ''], ['35', 'Mexico', '90.2', '90.2', '0.0'], ['36', 'Algeria[3]', '90.0', '90.0', '0.0'], ['37', 'Jordan[4]', '55.0', '43.8', '11.1'], ['38', 'India[5]', '27.0', '21.6', '5.4'], ['38', 'Paraguay[6]', '27.0', '20.0', '7.0']]\n"
     ]
    }
   ],
   "source": [
    "#scrapes your data \n",
    "from bs4 import BeautifulSoup\n",
    "import requests \n",
    "import csv \n",
    "    \n",
    "def website():\n",
    "    url = 'https://en.wikipedia.org/wiki/List_of_countries_by_health_insurance_coverage'\n",
    "    r = requests.get(url)\n",
    "    soup = BeautifulSoup(r.text,\"html.parser\")\n",
    "    table = soup.find(\"table\",{\"class\":\"wikitable sortable\"})\n",
    "    rows = table.findAll(\"tr\")\n",
    "    data = []\n",
    "    \n",
    "# in order to get within the rows and columns we me understand\n",
    "# headers are under th \n",
    "    columns = [i.text.replace('\\n','') for i in rows[0].findAll('th')]\n",
    "    data.append(columns)\n",
    "    \n",
    "    for i in range(1,len(rows)):\n",
    "        tds = rows[i].findAll('td')\n",
    "#         create an empty list to add all of your td texts\n",
    "        tds_text = []\n",
    "    \n",
    "        for td in tds:\n",
    "#             for each td in the row, append the stripped text to to the tds_text list (strip just removes white spaces at the beginning and end of your string)\n",
    "            tds_text.append(td.text.strip())\n",
    "        \n",
    "#         for each row, append the tds_text list with all of your appended text items\n",
    "        data.append(tds_text)\n",
    "        \n",
    "    \n",
    "\n",
    "#     see what your output looks like\n",
    "    print(data)\n",
    "\n",
    "#     write to csv\n",
    "    with open('Jessica-DeMota-world-insurance.csv', 'w', newline='') as myfile:\n",
    "         wr = csv.writer(myfile)\n",
    "         for ml in data:\n",
    "             wr.writerow(ml)\n",
    "                \n",
    "# call your website function\n",
    "website()\n",
    "\n",
    "# check the folder where you have this file saved, your 'Jessica-DeMota-world-insurance.csv' should be saved there now\n",
    "\n",
    "    "
   ]
  },
  {
   "cell_type": "markdown",
   "metadata": {},
   "source": []
  },
  {
   "cell_type": "code",
   "execution_count": null,
   "metadata": {},
   "outputs": [],
   "source": []
  }
 ],
 "metadata": {
  "kernelspec": {
   "display_name": "Python 3",
   "language": "python",
   "name": "python3"
  },
  "language_info": {
   "codemirror_mode": {
    "name": "ipython",
    "version": 3
   },
   "file_extension": ".py",
   "mimetype": "text/x-python",
   "name": "python",
   "nbconvert_exporter": "python",
   "pygments_lexer": "ipython3",
   "version": "3.6.10"
  }
 },
 "nbformat": 4,
 "nbformat_minor": 4
}
