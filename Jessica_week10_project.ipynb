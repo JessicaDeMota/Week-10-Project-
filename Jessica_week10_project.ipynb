{
 "cells": [
  {
   "cell_type": "markdown",
   "metadata": {},
   "source": [
    "<div style=\"background: #000;\n",
    "            color: #FFF;\n",
    "            margin: 0px;\n",
    "                padding: 10px 0px 20px 0px;\n",
    "            text-align: center; \n",
    "                \">\n",
    "    <h1>Week 10 Project</h1>\n",
    "</div>"
   ]
  },
  {
   "cell_type": "markdown",
   "metadata": {},
   "source": [
    "For your final project, you will:\n",
    "* Scrape data of significance (will need approval) and clean it up.\n",
    "* Automate the process of storing it in your database. \n",
    "* Create a flask application that will make our database accessible from the web. Your flask views can return html or json depending on your preference.\n",
    "\n",
    "### First deliverable for your final project:\n",
    "Due next week (data tbd)\n",
    "* The script that scrapes your data and stores it in your database.\n",
    "* The git repo to store your work with the script included.\n"
   ]
  },
  {
   "cell_type": "code",
   "execution_count": 17,
   "metadata": {},
   "outputs": [
    {
     "ename": "SyntaxError",
     "evalue": "invalid syntax (<ipython-input-17-2195cfc243c5>, line 28)",
     "output_type": "error",
     "traceback": [
      "\u001b[0;36m  File \u001b[0;32m\"<ipython-input-17-2195cfc243c5>\"\u001b[0;36m, line \u001b[0;32m28\u001b[0m\n\u001b[0;31m    data.append(values)\u001b[0m\n\u001b[0m       ^\u001b[0m\n\u001b[0;31mSyntaxError\u001b[0m\u001b[0;31m:\u001b[0m invalid syntax\n"
     ]
    }
   ],
   "source": [
    "#scrapes your data \n",
    "from bs4 import BeautifulSoup\n",
    "import requests \n",
    "import csv \n",
    "\n",
    "def website():\n",
    "    url = 'https://en.wikipedia.org/wiki/List_of_countries_by_health_insurance_coverage'\n",
    "    r = requests.get(url)\n",
    "    soup = BeautifulSoup(r.text,\"html.parser\")\n",
    "    table = soup.find(\"table\",{\"class\":\"wikitable sortable\"})\n",
    "    rows = table.findAll(\"tr\")\n",
    "    data = []\n",
    "    \n",
    "# in order to get within the rows and columns we me understand\n",
    "# headers are under th \n",
    "    column = [i.text.replace('\\n','') for i in rows[0].findAll('th')]\n",
    "    data.append(column)\n",
    "    for i in range(1,len(rows)):\n",
    "        tds = rows[i].findAll('td')\n",
    "        \n",
    "        if len(tds) == 6:\n",
    "            values == [tds[0].text.replace('/n','').replace('\\xao',''),tds[1].text.replace('\\n',''),\n",
    "\n",
    "            tds[2].text.replace('\\n',''),\n",
    "            tds[3].text.replace('\\n',''),\n",
    "            tds[4].text.replace('\\n',''),\n",
    "            tds[5].text.replace('\\n','')\n",
    "                 data.append(values)\n",
    "                   \n",
    "        else:\n",
    "            values = [td.text.replace('\\n','').replace('\\xao','')for td in tds]\n",
    "        \n",
    "    with open('Jessica-DeMota-world-insurance.csv','w')as CSVfile:\n",
    "        write = csv.writer(CVSfile)\n",
    "        for ml in data:\n",
    "            write.writerow(ml)\n",
    "            \n",
    "    if __name__=='__main__':\n",
    "        website()\n",
    "    "
   ]
  },
  {
   "cell_type": "code",
   "execution_count": null,
   "metadata": {},
   "outputs": [],
   "source": []
  },
  {
   "cell_type": "markdown",
   "metadata": {},
   "source": []
  }
 ],
 "metadata": {
  "kernelspec": {
   "display_name": "Python 3",
   "language": "python",
   "name": "python3"
  },
  "language_info": {
   "codemirror_mode": {
    "name": "ipython",
    "version": 3
   },
   "file_extension": ".py",
   "mimetype": "text/x-python",
   "name": "python",
   "nbconvert_exporter": "python",
   "pygments_lexer": "ipython3",
   "version": "3.6.10"
  }
 },
 "nbformat": 4,
 "nbformat_minor": 4
}
